{
 "cells": [
  {
   "cell_type": "code",
   "execution_count": 26,
   "id": "27cad564-4841-4d78-8d6f-db365f10affb",
   "metadata": {},
   "outputs": [],
   "source": [
    "from your.candidate import Candidate\n",
    "import numpy as np\n",
    "import xarray\n",
    "import matplotlib.pyplot as plt\n",
    "import pandas as pd\n",
    "\n",
    "from grex_t3 import candproc_tools"
   ]
  },
  {
   "cell_type": "code",
   "execution_count": 27,
   "id": "9ee0c934-85bb-4a6c-bfdd-68bd991f1ccd",
   "metadata": {},
   "outputs": [
    {
     "name": "stdout",
     "output_type": "stream",
     "text": [
      "Zeroing out <1300 MHz and >1490 MHz\n"
     ]
    }
   ],
   "source": [
    "fnfil = '/hdd/data/filterbanks/grex-20241125T160707.fil'\n",
    "cand = candproc_tools.read_proc_fil(fnfil)"
   ]
  },
  {
   "cell_type": "code",
   "execution_count": 28,
   "id": "8768d569-15fd-4ec6-910c-2752b1ed6641",
   "metadata": {},
   "outputs": [
    {
     "name": "stdout",
     "output_type": "stream",
     "text": [
      "(2048, 4768)\n"
     ]
    }
   ],
   "source": [
    "data = cand.data.T\n",
    "print(data.shape)"
   ]
  },
  {
   "cell_type": "code",
   "execution_count": 45,
   "id": "c5beb014-71a9-402e-b000-a4bf1a614a60",
   "metadata": {},
   "outputs": [],
   "source": [
    "# fig = plt.figure(figsize=(10,8))\n",
    "# plt.imshow(np.log10(data), aspect='auto', extent=[0, 1, cand.chan_freqs[0], cand.chan_freqs[-1]])\n",
    "# print(\"Marking the 21cm line\")\n",
    "# plt.axhline(1420.1, alpha=0.25, c='k', linestyle=':')\n",
    "# plt.show()"
   ]
  },
  {
   "cell_type": "code",
   "execution_count": 42,
   "id": "81d4b8b3-b26c-45c3-a18c-9bc71a6c28a7",
   "metadata": {},
   "outputs": [],
   "source": [
    "# fig = plt.figure(figsize=(7,5))\n",
    "# plt.plot(cand.chan_freqs[::-1], data.mean(1))\n",
    "# plt.axvline(1420.1, c='k', alpha=0.25, linestyle=':')\n",
    "# plt.xlabel('Frequency (MHz)')\n",
    "# plt.ylabel('Stokes I Power')\n",
    "#plt.ylim(0.0, 0.005)\n",
    "#plt.xlim(1400, 1450)"
   ]
  },
  {
   "cell_type": "code",
   "execution_count": null,
   "id": "75eacc4b-e018-4fd2-b339-93b678a9daff",
   "metadata": {},
   "outputs": [],
   "source": []
  }
 ],
 "metadata": {
  "kernelspec": {
   "display_name": "Python 3 (ipykernel)",
   "language": "python",
   "name": "python3"
  },
  "language_info": {
   "codemirror_mode": {
    "name": "ipython",
    "version": 3
   },
   "file_extension": ".py",
   "mimetype": "text/x-python",
   "name": "python",
   "nbconvert_exporter": "python",
   "pygments_lexer": "ipython3",
   "version": "3.10.12"
  }
 },
 "nbformat": 4,
 "nbformat_minor": 5
}
